{
 "cells": [
  {
   "cell_type": "markdown",
   "metadata": {},
   "source": [
    "<b>1.Python program for slicing the given list [1,2,3,4,5,6,7,8,9]"
   ]
  },
  {
   "cell_type": "code",
   "execution_count": 4,
   "metadata": {},
   "outputs": [
    {
     "name": "stdout",
     "output_type": "stream",
     "text": [
      "Original List:\n",
      " [1, 2, 3, 4, 5, 6, 7, 8, 9]\n",
      "\n",
      "Sliced Lists: \n",
      "[4, 6, 8]\n",
      "[1, 3, 5, 7, 9]\n",
      "[1, 2, 3, 4, 5, 6, 7, 8, 9]\n"
     ]
    }
   ],
   "source": [
    "#Initialize list\n",
    "z = [1, 2, 3, 4, 5, 6, 7, 8, 9]\n",
    "\n",
    "#Original list\n",
    "print(\"Original List:\\n\", z)\n",
    "\n",
    "print(\"\\nSliced Lists: \")\n",
    "\n",
    "#Examples of slicing with different ratios; [Start:Stop:Step]\n",
    "\n",
    "print(z[3:9:2])\n",
    "\n",
    "print(z[::2])\n",
    "\n",
    "print(z[::])\n"
   ]
  },
  {
   "cell_type": "markdown",
   "metadata": {},
   "source": [
    "<b>2. Python program for a list [50, 70, 30, 20, 90, 10, 50] slicing from index 1 till 4. "
   ]
  },
  {
   "cell_type": "code",
   "execution_count": 12,
   "metadata": {},
   "outputs": [
    {
     "name": "stdout",
     "output_type": "stream",
     "text": [
      "[70, 30, 20, 90]\n",
      "[70, 30, 20, 90]\n"
     ]
    }
   ],
   "source": [
    "#Initialize List\n",
    "x = [50,70,30,20,90,10,50] \n",
    "\n",
    "print(x[1:5])\n",
    "\n",
    "print(x[-6:-2])"
   ]
  },
  {
   "cell_type": "markdown",
   "metadata": {},
   "source": [
    "<b>3. Python program to replace the last element in a list with another list. "
   ]
  },
  {
   "cell_type": "code",
   "execution_count": 9,
   "metadata": {},
   "outputs": [
    {
     "name": "stdout",
     "output_type": "stream",
     "text": [
      "[11, 13, 15, 17, 18, 20, 22, 24, 26]\n"
     ]
    }
   ],
   "source": [
    "\n",
    "def rep_last_element(test_list, new_list):\n",
    "#Function using list slicing to replace the last element with another list.\n",
    "  test_list [-1:] = new_list\n",
    "  return test_list\n",
    "\n",
    "test_list = [11,13,15,17,19]\n",
    "new_list = [18,20,22,24,26]\n",
    "\n",
    "result = rep_last_element(test_list, new_list)\n",
    "print(result)"
   ]
  },
  {
   "cell_type": "markdown",
   "metadata": {},
   "source": [
    "<b>4. Python program to get a string made of the first 2 and the last 2 chars from a given a string. <br>If the string length is less than 2, return instead of the empty string."
   ]
  },
  {
   "cell_type": "code",
   "execution_count": 30,
   "metadata": {},
   "outputs": [
    {
     "name": "stdout",
     "output_type": "stream",
     "text": [
      "Biid\n"
     ]
    }
   ],
   "source": [
    "def string_both_ends(str):\n",
    "  \n",
    "  if len(str) < 2:\n",
    "    return ''\n",
    "  return str[:2] + str[-2:]\n",
    "\n",
    "\n",
    "str = \"BilalZahid\"\n",
    "result = string_both_ends(str)\n",
    "print(result)\n",
    "\n"
   ]
  }
 ],
 "metadata": {
  "kernelspec": {
   "display_name": "Python 3",
   "language": "python",
   "name": "python3"
  },
  "language_info": {
   "codemirror_mode": {
    "name": "ipython",
    "version": 3
   },
   "file_extension": ".py",
   "mimetype": "text/x-python",
   "name": "python",
   "nbconvert_exporter": "python",
   "pygments_lexer": "ipython3",
   "version": "3.10.11"
  }
 },
 "nbformat": 4,
 "nbformat_minor": 2
}
